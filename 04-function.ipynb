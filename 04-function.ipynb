{
 "cells": [
  {
   "cell_type": "markdown",
   "metadata": {},
   "source": [
    "# Code reorganization\n",
    "Using notebooks has lots of good sides. But notebooks [have downsides as well](https://docs.google.com/presentation/d/1n2RlMdmv1p25Xy5thJUhkKGvjtV-dkAIsUXP-AL4ffI/edit). In short:\n",
    "- Encourage bad conding practice (copy-paste, global variables, low reusability)\n",
    "- Hard to manage (hidden states & gloabal variables)\n",
    "- Hard to debug"
   ]
  },
  {
   "cell_type": "markdown",
   "metadata": {},
   "source": [
    "**DRY** - **D**on't **R**epeat **Y**ourself  \n",
    "Rule of three -- [when similar code is used three times, it should be extracted into a new procedure](https://en.wikipedia.org/wiki/Rule_of_three_(computer_programming))"
   ]
  },
  {
   "cell_type": "markdown",
   "metadata": {},
   "source": [
    "What to do:\n",
    "- Make function containing often used functionality (eg., conputing statistics, data transforms, models, etc)\n",
    "- Put those function into the file\n",
    "- Use the functions, improve and update them"
   ]
  },
  {
   "cell_type": "code",
   "execution_count": 1,
   "metadata": {},
   "outputs": [],
   "source": [
    "%load_ext autoreload\n",
    "%autoreload 2"
   ]
  },
  {
   "cell_type": "markdown",
   "metadata": {},
   "source": [
    "### Function"
   ]
  },
  {
   "cell_type": "code",
   "execution_count": 2,
   "metadata": {},
   "outputs": [
    {
     "name": "stdout",
     "output_type": "stream",
     "text": [
      "10 ^ 2 = 100\n",
      "1234567890 ^ 2 = 1524157875019052100\n"
     ]
    }
   ],
   "source": [
    "def sqr(x):\n",
    "    return x*x\n",
    "\n",
    "print(\"10 ^ 2 =\", sqr(10))\n",
    "print(\"1234567890 ^ 2 =\", sqr(1234567890))"
   ]
  },
  {
   "cell_type": "code",
   "execution_count": 3,
   "metadata": {},
   "outputs": [
    {
     "name": "stdout",
     "output_type": "stream",
     "text": [
      "sqrt(10) = 3.1622776601683795\n",
      "sqrt(-1) = None\n"
     ]
    }
   ],
   "source": [
    "import math\n",
    "\n",
    "def sqrt(x):\n",
    "    if x >= 0:\n",
    "        return math.sqrt(x)\n",
    "    else:\n",
    "        return None\n",
    "    \n",
    "print(\"sqrt(10) =\", sqrt(10))\n",
    "print(\"sqrt(-1) =\", sqrt(-1))\n",
    "# print(\"sqrt(-1) =\", math.sqrt(-1)) # this would give an error"
   ]
  },
  {
   "cell_type": "code",
   "execution_count": 4,
   "metadata": {},
   "outputs": [
    {
     "data": {
      "text/plain": [
       "3.0"
      ]
     },
     "execution_count": 4,
     "metadata": {},
     "output_type": "execute_result"
    }
   ],
   "source": [
    "def mean(xs):\n",
    "    res = 0\n",
    "    for x in xs:\n",
    "        res += x\n",
    "    res /= len(xs)\n",
    "    return res\n",
    "\n",
    "mean([1,2,3,4,5])"
   ]
  },
  {
   "cell_type": "code",
   "execution_count": 5,
   "metadata": {},
   "outputs": [
    {
     "data": {
      "text/plain": [
       "[-0.14409032957792836,\n",
       " -0.1729036003315193,\n",
       " -0.11131586156766247,\n",
       " 0.7019837250988631,\n",
       " -0.12758828378288709,\n",
       " -1.4973534143409575,\n",
       " 0.33231834406771527,\n",
       " -0.2673374784971682,\n",
       " -0.21695868414519504,\n",
       " 0.11588478670085507]"
      ]
     },
     "execution_count": 5,
     "metadata": {},
     "output_type": "execute_result"
    }
   ],
   "source": [
    "import random\n",
    "\n",
    "def generate_gaussian_vector(size, mu, sigma):\n",
    "    res = [0] * size\n",
    "    for k in range(size):\n",
    "        res[k] = random.gauss(mu, sigma)\n",
    "    return res\n",
    "\n",
    "random.seed(42)\n",
    "generate_gaussian_vector(10, 0, 1)"
   ]
  },
  {
   "cell_type": "code",
   "execution_count": 6,
   "metadata": {},
   "outputs": [
    {
     "data": {
      "text/plain": [
       "[-0.14409032957792836,\n",
       " -0.1729036003315193,\n",
       " -0.11131586156766247,\n",
       " 0.7019837250988631,\n",
       " -0.12758828378288709,\n",
       " -1.4973534143409575,\n",
       " 0.33231834406771527,\n",
       " -0.2673374784971682,\n",
       " -0.21695868414519504,\n",
       " 0.11588478670085507]"
      ]
     },
     "execution_count": 6,
     "metadata": {},
     "output_type": "execute_result"
    }
   ],
   "source": [
    "def generate_gaussian_vector(size, mu=0, sigma=1):\n",
    "    res = [0] * size\n",
    "    for k in range(size):\n",
    "        res[k] = random.gauss(mu, sigma)\n",
    "    return res\n",
    "\n",
    "random.seed(42)\n",
    "generate_gaussian_vector(10)"
   ]
  },
  {
   "cell_type": "markdown",
   "metadata": {},
   "source": [
    "### Import file"
   ]
  },
  {
   "cell_type": "code",
   "execution_count": 7,
   "metadata": {},
   "outputs": [],
   "source": [
    "import utils"
   ]
  },
  {
   "cell_type": "code",
   "execution_count": 8,
   "metadata": {},
   "outputs": [
    {
     "name": "stdout",
     "output_type": "stream",
     "text": [
      "12 ^ 2 = 144\n",
      "random gaussian vector: [-0.14409032957792836, -0.1729036003315193, -0.11131586156766247, 0.7019837250988631, -0.12758828378288709, -1.4973534143409575, 0.33231834406771527, -0.2673374784971682, -0.21695868414519504, 0.11588478670085507]\n"
     ]
    }
   ],
   "source": [
    "random.seed(42)\n",
    "print(\"12 ^ 2 =\", utils.sqr(12))\n",
    "print(\"random gaussian vector:\", utils.generate_gaussian_vector(10))"
   ]
  },
  {
   "cell_type": "markdown",
   "metadata": {},
   "source": [
    "### List comprehensions"
   ]
  },
  {
   "cell_type": "code",
   "execution_count": 9,
   "metadata": {},
   "outputs": [
    {
     "data": {
      "text/plain": [
       "[0.6394267984578837,\n",
       " 0.025010755222666936,\n",
       " 0.27502931836911926,\n",
       " 0.22321073814882275,\n",
       " 0.7364712141640124,\n",
       " 0.6766994874229113,\n",
       " 0.8921795677048454,\n",
       " 0.08693883262941615,\n",
       " 0.4219218196852704,\n",
       " 0.029797219438070344]"
      ]
     },
     "execution_count": 9,
     "metadata": {},
     "output_type": "execute_result"
    }
   ],
   "source": [
    "# \"old\" way to generate array of random numbers from previous lecture\n",
    "random.seed(42)\n",
    "size = 10\n",
    "xs = [0] * size\n",
    "for k in range(size):\n",
    "    xs[k] = random.random()\n",
    "xs"
   ]
  },
  {
   "cell_type": "code",
   "execution_count": 10,
   "metadata": {},
   "outputs": [
    {
     "data": {
      "text/plain": [
       "[0.6394267984578837,\n",
       " 0.025010755222666936,\n",
       " 0.27502931836911926,\n",
       " 0.22321073814882275,\n",
       " 0.7364712141640124,\n",
       " 0.6766994874229113,\n",
       " 0.8921795677048454,\n",
       " 0.08693883262941615,\n",
       " 0.4219218196852704,\n",
       " 0.029797219438070344]"
      ]
     },
     "execution_count": 10,
     "metadata": {},
     "output_type": "execute_result"
    }
   ],
   "source": [
    "# with comprehension\n",
    "random.seed(42)\n",
    "size=10\n",
    "xs = [random.random() for _ in range(size)]\n",
    "xs"
   ]
  },
  {
   "cell_type": "code",
   "execution_count": 11,
   "metadata": {},
   "outputs": [
    {
     "data": {
      "text/plain": [
       "['b', 'b', 'a', 'b', 'd', 'b', 'd', 'c', 'a', 'b']"
      ]
     },
     "execution_count": 11,
     "metadata": {},
     "output_type": "execute_result"
    }
   ],
   "source": [
    "# make random categorical variable\n",
    "cats = [random.choice([\"a\", \"b\", \"c\", \"d\"]) for _ in range(size)]\n",
    "cats"
   ]
  },
  {
   "cell_type": "code",
   "execution_count": 12,
   "metadata": {},
   "outputs": [
    {
     "data": {
      "text/plain": [
       "[1, 2, 3, 4, 5, 6, 7, 8, 9, 10]"
      ]
     },
     "execution_count": 12,
     "metadata": {},
     "output_type": "execute_result"
    }
   ],
   "source": [
    "# compare with list(range(1, 11))\n",
    "[k+1 for k in range(10)]"
   ]
  },
  {
   "cell_type": "code",
   "execution_count": 13,
   "metadata": {},
   "outputs": [
    {
     "data": {
      "text/plain": [
       "[1, 2, 3, 4, 5, 6, 7, 8, 9, 10]"
      ]
     },
     "execution_count": 13,
     "metadata": {},
     "output_type": "execute_result"
    }
   ],
   "source": [
    "list(range(1, 11))"
   ]
  },
  {
   "cell_type": "code",
   "execution_count": 14,
   "metadata": {},
   "outputs": [
    {
     "data": {
      "text/plain": [
       "[0, 2, 4, 6, 8]"
      ]
     },
     "execution_count": 14,
     "metadata": {},
     "output_type": "execute_result"
    }
   ],
   "source": [
    "# compare with list(range(0, 10, 2))\n",
    "[k for k in range(10) if k % 2 == 0]"
   ]
  },
  {
   "cell_type": "code",
   "execution_count": 15,
   "metadata": {},
   "outputs": [
    {
     "data": {
      "text/plain": [
       "[0, 2, 4, 6, 8]"
      ]
     },
     "execution_count": 15,
     "metadata": {},
     "output_type": "execute_result"
    }
   ],
   "source": [
    "list(range(0, 10, 2))"
   ]
  },
  {
   "cell_type": "code",
   "execution_count": 16,
   "metadata": {},
   "outputs": [
    {
     "name": "stdout",
     "output_type": "stream",
     "text": [
      "xs1: [0.6394267984578837, 0.025010755222666936, 0.27502931836911926, 0.22321073814882275, 0.7364712141640124]\n",
      "xs2: [0.6766994874229113, 0.8921795677048454, 0.08693883262941615, 0.4219218196852704, 0.029797219438070344]\n",
      "diffs: [-0.037272688965027556, -0.8671688124821785, 0.1880904857397031, -0.19871108153644768, 0.7066739947259421]\n"
     ]
    }
   ],
   "source": [
    "random.seed(42)\n",
    "\n",
    "size = 5\n",
    "xs1 = [random.random() for _ in range(size)]\n",
    "xs2 = [random.random() for _ in range(size)]\n",
    "diffs = [x1-x2 for x1, x2 in zip(xs1, xs2)]\n",
    "\n",
    "print(\"xs1:\", xs1)\n",
    "print(\"xs2:\", xs2)\n",
    "print(\"diffs:\", diffs)"
   ]
  },
  {
   "cell_type": "code",
   "execution_count": 17,
   "metadata": {},
   "outputs": [
    {
     "data": {
      "text/plain": [
       "[-0.037272688965027556,\n",
       " -0.8671688124821785,\n",
       " 0.1880904857397031,\n",
       " -0.19871108153644768,\n",
       " 0.7066739947259421]"
      ]
     },
     "execution_count": 17,
     "metadata": {},
     "output_type": "execute_result"
    }
   ],
   "source": [
    "[xs1[k] - xs2[k] for k in range(size)]  # sampe as using zip"
   ]
  },
  {
   "cell_type": "code",
   "execution_count": 18,
   "metadata": {},
   "outputs": [
    {
     "name": "stdout",
     "output_type": "stream",
     "text": [
      "xs1: ['0.6394', '0.0250', '0.2750', '0.2232', '0.7365']\n",
      "xs2: ['0.6767', '0.8922', '0.0869', '0.4219', '0.0298']\n",
      "diffs: ['-0.0373', '-0.8672', '0.1881', '-0.1987', '0.7067']\n"
     ]
    }
   ],
   "source": [
    "# nicer output\n",
    "print(\"xs1:\", [\"{:.4f}\".format(x1) for x1 in xs1])\n",
    "print(\"xs2:\", [\"{:.4f}\".format(x2) for x2 in xs2])\n",
    "print(\"diffs:\", [\"{:.4f}\".format(diff) for diff in diffs])"
   ]
  },
  {
   "cell_type": "code",
   "execution_count": 19,
   "metadata": {},
   "outputs": [
    {
     "data": {
      "text/plain": [
       "['0.6394', '0.0250', '0.2232']"
      ]
     },
     "execution_count": 19,
     "metadata": {},
     "output_type": "execute_result"
    }
   ],
   "source": [
    "# conditional comprehension\n",
    "x1_less_than_x2 = [\"{:.4f}\".format(x1) for x1, x2 in zip(xs1, xs2) if x1 < x2]\n",
    "x1_less_than_x2"
   ]
  },
  {
   "cell_type": "code",
   "execution_count": 20,
   "metadata": {},
   "outputs": [
    {
     "name": "stdout",
     "output_type": "stream",
     "text": [
      "0.19027727304636768\n",
      "0.19027727304636768\n"
     ]
    }
   ],
   "source": [
    "# ex. write list comprehension to compute mean values of the vector and compare with utils.mean\n",
    "xs = utils.generate_gaussian_vector(10)\n",
    "\n",
    "print(mean([x for x in xs]))\n",
    "print(utils.mean(xs))"
   ]
  },
  {
   "cell_type": "code",
   "execution_count": 21,
   "metadata": {},
   "outputs": [
    {
     "name": "stdout",
     "output_type": "stream",
     "text": [
      "0.192538980857274\n",
      "0.192538980857274\n"
     ]
    }
   ],
   "source": [
    "# ex. write list comprehension to compute mean squared error.\n",
    "random.seed(42)\n",
    "size=10\n",
    "\n",
    "gt = [random.choice([0, 1]) for _ in range(size)]\n",
    "pred = [random.random() for _ in range(size)]\n",
    "\n",
    "# list comprehension\n",
    "mse = mean([(gt_item - pred_item) ** 2 for gt_item, pred_item in zip(gt, pred)])\n",
    "print(mse)\n",
    "\n",
    "# iteration\n",
    "mse = 0\n",
    "for k in range(size):\n",
    "    mse += (gt[k] - pred[k]) ** 2\n",
    "mse /= size\n",
    "print(mse)"
   ]
  },
  {
   "cell_type": "code",
   "execution_count": 22,
   "metadata": {},
   "outputs": [
    {
     "name": "stdout",
     "output_type": "stream",
     "text": [
      "0.3603884839734178\n",
      "0.3603884839734178\n"
     ]
    }
   ],
   "source": [
    "# ex. write list comprehension to compute mean absolute error.\n",
    "\n",
    "# list comprehension\n",
    "mae = mean([abs(gt_item - pred_item) for gt_item, pred_item in zip(gt, pred)])\n",
    "print(mae)\n",
    "\n",
    "mae = 0\n",
    "for k in range(size):\n",
    "    mae += abs(gt[k] - pred[k])\n",
    "mae /= size\n",
    "print(mae)"
   ]
  }
 ],
 "metadata": {
  "kernelspec": {
   "display_name": "Python 3",
   "language": "python",
   "name": "python3"
  },
  "language_info": {
   "codemirror_mode": {
    "name": "ipython",
    "version": 3
   },
   "file_extension": ".py",
   "mimetype": "text/x-python",
   "name": "python",
   "nbconvert_exporter": "python",
   "pygments_lexer": "ipython3",
   "version": "3.7.6"
  }
 },
 "nbformat": 4,
 "nbformat_minor": 4
}
