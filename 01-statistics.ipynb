{
 "cells": [
  {
   "cell_type": "markdown",
   "metadata": {},
   "source": [
    "# Statistics\n",
    "- random variable\n",
    "- basic statistics (numeric)\n",
    "  - min, max\n",
    "  - mean, std, median\n",
    "  - 25- and 75-percentiles\n",
    "  - distribution\n",
    "- basic statistics (categoric)\n",
    "- t-testing\n",
    "- bootstrap"
   ]
  },
  {
   "cell_type": "markdown",
   "metadata": {},
   "source": [
    "### Prepare random variable to demonstrate the results"
   ]
  },
  {
   "cell_type": "code",
   "execution_count": 1,
   "metadata": {},
   "outputs": [
    {
     "data": {
      "text/plain": [
       "([0.6394267984578837,\n",
       "  0.025010755222666936,\n",
       "  0.27502931836911926,\n",
       "  0.22321073814882275,\n",
       "  0.7364712141640124],\n",
       " [0.9479043786030863,\n",
       "  0.07504116498815927,\n",
       "  0.6375125378832983,\n",
       "  0.3633111306509823,\n",
       "  0.8010959755621699])"
      ]
     },
     "execution_count": 1,
     "metadata": {},
     "output_type": "execute_result"
    }
   ],
   "source": [
    "# prepare random vector to demonstrate the results\n",
    "\n",
    "import random\n",
    "\n",
    "random.seed(42)\n",
    "\n",
    "# make random vector\n",
    "size = 1500\n",
    "xs = [0] * size  # make array with size elements and fill it with 0s\n",
    "for k in range(size):\n",
    "    xs[k] = random.random()\n",
    "    \n",
    "xs[:5], xs[-5:]"
   ]
  },
  {
   "cell_type": "code",
   "execution_count": 2,
   "metadata": {},
   "outputs": [],
   "source": [
    "# ex 1.3.X: make random vector with values uniformly distributed from -1 to 1\n",
    "# ex 1.3.X: make random matrix, size 30x120, with values uniformly distributed from -1 to 3"
   ]
  },
  {
   "cell_type": "code",
   "execution_count": 3,
   "metadata": {},
   "outputs": [
    {
     "data": {
      "text/plain": [
       "([-0.2788535969157675,\n",
       "  0.9499784895546661,\n",
       "  0.4499413632617615,\n",
       "  0.5535785237023545,\n",
       "  -0.4729424283280248],\n",
       " [0.23676142698692648,\n",
       "  -0.9922427604801936,\n",
       "  -0.058228690198274036,\n",
       "  -0.9421567552272363,\n",
       "  -0.7215594044689961],\n",
       " -0.9950752129902205,\n",
       " 0.987002480643878)"
      ]
     },
     "execution_count": 3,
     "metadata": {},
     "output_type": "execute_result"
    }
   ],
   "source": [
    "# ex\n",
    "\n",
    "random.seed(42)\n",
    "\n",
    "size = 100\n",
    "xs = [0] * size\n",
    "for k in range(size):\n",
    "    xs[k] = 1 - 2 * random.random()\n",
    "    \n",
    "xs[:5], xs[-5:], min(xs), max(xs)"
   ]
  },
  {
   "cell_type": "code",
   "execution_count": 4,
   "metadata": {},
   "outputs": [
    {
     "data": {
      "text/plain": [
       "(2.9511664990459088, -0.9993211380866542, 2.742048309850143)"
      ]
     },
     "execution_count": 4,
     "metadata": {},
     "output_type": "execute_result"
    }
   ],
   "source": [
    "# ex\n",
    "\n",
    "random.seed(42)\n",
    "\n",
    "r, c = 30, 120\n",
    "m = []\n",
    "for row in range(r):\n",
    "    cur_row = [0] * c\n",
    "    for col in range(c):\n",
    "        cur_row[col] = 4 * random.random() - 1\n",
    "    m.append(cur_row)\n",
    "    \n",
    "max(m[29]), min(m[29]), m[29][119]"
   ]
  },
  {
   "cell_type": "markdown",
   "metadata": {},
   "source": [
    "### Basic statistics (numeric variable)\n",
    "- min, max\n",
    "- mean, sd, median\n",
    "- 25- and 75-percentiles\n",
    "- distribution"
   ]
  },
  {
   "cell_type": "code",
   "execution_count": 5,
   "metadata": {},
   "outputs": [
    {
     "data": {
      "text/plain": [
       "(-0.9950752129902205, 0.987002480643878)"
      ]
     },
     "execution_count": 5,
     "metadata": {},
     "output_type": "execute_result"
    }
   ],
   "source": [
    "# min, max\n",
    "\n",
    "min_x = min(xs)\n",
    "max_x = max(xs)\n",
    "min_x, max_x"
   ]
  },
  {
   "cell_type": "code",
   "execution_count": 6,
   "metadata": {},
   "outputs": [
    {
     "data": {
      "text/plain": [
       "0.04086151374716617"
      ]
     },
     "execution_count": 6,
     "metadata": {},
     "output_type": "execute_result"
    }
   ],
   "source": [
    "# mean\n",
    "\n",
    "mean_x = 0\n",
    "for x in xs:\n",
    "    mean_x += x\n",
    "\n",
    "mean_x /= len(xs)\n",
    "mean_x"
   ]
  },
  {
   "cell_type": "code",
   "execution_count": 7,
   "metadata": {},
   "outputs": [
    {
     "data": {
      "text/plain": [
       "0.5900078691486795"
      ]
     },
     "execution_count": 7,
     "metadata": {},
     "output_type": "execute_result"
    }
   ],
   "source": [
    "# std\n",
    "\n",
    "import math  # package with math functions\n",
    "\n",
    "std_x = 0\n",
    "for x in xs:\n",
    "    std_x += (x - mean_x) ** 2\n",
    "    \n",
    "std_x = math.sqrt(std_x / (len(xs) - 1))\n",
    "std_x"
   ]
  },
  {
   "cell_type": "code",
   "execution_count": 8,
   "metadata": {},
   "outputs": [
    {
     "data": {
      "text/plain": [
       "0.0822962948252024"
      ]
     },
     "execution_count": 8,
     "metadata": {},
     "output_type": "execute_result"
    }
   ],
   "source": [
    "# median\n",
    "\n",
    "median = sorted(xs)[int(size/2)]\n",
    "median"
   ]
  },
  {
   "cell_type": "code",
   "execution_count": 9,
   "metadata": {},
   "outputs": [
    {
     "data": {
      "text/plain": [
       "(-0.40914367242984695, 0.5535785237023545)"
      ]
     },
     "execution_count": 9,
     "metadata": {},
     "output_type": "execute_result"
    }
   ],
   "source": [
    "# percentiles\n",
    "\n",
    "sorted_xs = sorted(xs)  # presort the array to avoid repetitive computations\n",
    "quart1 = sorted_xs[int(size/4)]\n",
    "quart3 = sorted_xs[int(3 * size/4)]\n",
    "quart1, quart3"
   ]
  },
  {
   "cell_type": "code",
   "execution_count": 10,
   "metadata": {},
   "outputs": [
    {
     "name": "stdout",
     "output_type": "stream",
     "text": [
      "histogram:  [12, 9, 9, 12, 7, 10, 2, 7, 7, 6, 7, 12]\n",
      "'ideal' size of each bin:  8.333333333333334\n"
     ]
    }
   ],
   "source": [
    "# simple histogram\n",
    "\n",
    "bin_count = 12\n",
    "# bin_size = 1 / bin_count  # because xs was generated as random variable from [0, 1]\n",
    "bin_size = (max_x - min_x) / bin_count  # more general way\n",
    "hist = [0] * bin_count\n",
    "for x in xs:\n",
    "    bin_idx = int(x / bin_size)\n",
    "    hist[min(bin_idx, bin_count - 1)] += 1\n",
    "print(\"histogram: \", hist)  # should be ~size / bin_count for each bin\n",
    "print(\"'ideal' size of each bin: \", size / bin_count)  # note usage of quotes inside quotesa"
   ]
  },
  {
   "cell_type": "markdown",
   "metadata": {},
   "source": [
    "### Basic statistics (categorical variable)\n",
    "- unique elements\n",
    "- count"
   ]
  },
  {
   "cell_type": "code",
   "execution_count": 11,
   "metadata": {},
   "outputs": [
    {
     "data": {
      "text/plain": [
       "(['a', 'a', 'c', 'b', 'b'], ['b', 'b', 'd', 'a', 'd'])"
      ]
     },
     "execution_count": 11,
     "metadata": {},
     "output_type": "execute_result"
    }
   ],
   "source": [
    "random.seed(42)\n",
    "\n",
    "cats = [\"\"] * size\n",
    "for k in range(size):\n",
    "    cats[k] = random.choice([\"a\", \"b\", \"c\", \"d\"])\n",
    "cats[:5], cats[-5:]"
   ]
  },
  {
   "cell_type": "code",
   "execution_count": 12,
   "metadata": {},
   "outputs": [
    {
     "data": {
      "text/plain": [
       "{'a', 'b', 'c', 'd'}"
      ]
     },
     "execution_count": 12,
     "metadata": {},
     "output_type": "execute_result"
    }
   ],
   "source": [
    "# count unique elements\n",
    "unique_cats = set(cats)\n",
    "unique_cats"
   ]
  },
  {
   "cell_type": "code",
   "execution_count": 13,
   "metadata": {},
   "outputs": [],
   "source": [
    "# ex 1.3.X: implement detection of unique categories, without using set, but by using a loop"
   ]
  },
  {
   "cell_type": "code",
   "execution_count": 14,
   "metadata": {},
   "outputs": [
    {
     "data": {
      "text/plain": [
       "{'b': 29, 'c': 24, 'd': 20, 'a': 27}"
      ]
     },
     "execution_count": 14,
     "metadata": {},
     "output_type": "execute_result"
    }
   ],
   "source": [
    "# ex\n",
    "\n",
    "unique_cats_count = dict()\n",
    "for cat in unique_cats:\n",
    "    unique_cats_count[cat] = 0\n",
    "    \n",
    "for cat in cats:\n",
    "    unique_cats_count[cat] += 1\n",
    "    \n",
    "unique_cats_count"
   ]
  },
  {
   "cell_type": "markdown",
   "metadata": {},
   "source": [
    "### Statistical hypothesis testing (on the example of t-test)\n",
    "[`t-test`](https://en.wikipedia.org/wiki/Student%27s_t-test) is one of the most commonly used statistical tool to check whether two distribution are different or not.  \n",
    "`t-test` is applicable when data is distributed **normally**. If the condition is violated, `t-test` can give meaningless results."
   ]
  },
  {
   "cell_type": "code",
   "execution_count": 15,
   "metadata": {},
   "outputs": [
    {
     "data": {
      "text/plain": [
       "(20.232259256634066, 22.07622069136082)"
      ]
     },
     "execution_count": 15,
     "metadata": {},
     "output_type": "execute_result"
    }
   ],
   "source": [
    "random.seed(42)\n",
    "\n",
    "# dist1\n",
    "size1 = 200\n",
    "xs1 = [0] * size1\n",
    "mean1 = 0\n",
    "\n",
    "for k in range(size1):\n",
    "    xs1[k] = random.gauss(20, 2)\n",
    "    mean1 += xs1[k]\n",
    "mean1 /= size1\n",
    "\n",
    "# dist2\n",
    "size2 = 150\n",
    "xs2 = [0] * size2\n",
    "mean2 = 0\n",
    "\n",
    "for k in range(size2):\n",
    "    xs2[k] = random.gauss(21, 25)\n",
    "    mean2 += xs2[k]\n",
    "mean2 /= size2\n",
    "\n",
    "mean1, mean2"
   ]
  },
  {
   "cell_type": "markdown",
   "metadata": {},
   "source": [
    "Imagine that we only know information about means.  \n",
    "**`20.23` and `22.07` can be considered as similar?**, Does this mean that distributions are similar as well? Let's find out!"
   ]
  },
  {
   "cell_type": "code",
   "execution_count": 16,
   "metadata": {},
   "outputs": [
    {
     "data": {
      "text/plain": [
       "(3.416010615296955, 807.0836906738768)"
      ]
     },
     "execution_count": 16,
     "metadata": {},
     "output_type": "execute_result"
    }
   ],
   "source": [
    "# calcuate variances\n",
    "\n",
    "var1 = 0\n",
    "for x in xs1:\n",
    "    var1 += (x - mean1) ** 2\n",
    "var1 /= size1 - 1\n",
    "\n",
    "var2 = 0\n",
    "for x in xs2:\n",
    "    var2 += (x - mean2) ** 2\n",
    "var2 /= size2 - 1\n",
    "\n",
    "var1, var2"
   ]
  },
  {
   "cell_type": "markdown",
   "metadata": {},
   "source": [
    "**They are different!** What does `t-test` say?  \n",
    "We will be using `t-test` samples with unequal variances (formulas are from [**Welch's t-test**](https://en.wikipedia.org/wiki/Welch%27s_t-test)\n",
    "\n",
    "$${\\displaystyle t={\\frac {\\Delta {\\overline {X}}}{s_{\\Delta {\\bar {X}}}}}={\\frac {{\\overline {X}}_{1}-{\\overline {X}}_{2}}{\\sqrt {{s_{{\\bar {X}}_{1}}^{2}}+{s_{{\\bar {X}}_{2}}^{2}}}}}\\,}$$  \n",
    "$${\\displaystyle s_{{\\bar {X}}_{i}}={s_{i} \\over {\\sqrt {N_{i}}}}\\,}$$"
   ]
  },
  {
   "cell_type": "code",
   "execution_count": 17,
   "metadata": {},
   "outputs": [
    {
     "name": "stdout",
     "output_type": "stream",
     "text": [
      "Distribution are similar (-0.7936882608550769)\n"
     ]
    }
   ],
   "source": [
    "s_delta = math.sqrt(var1 / size1 + var2 / size2)\n",
    "t_statistics = (mean1 - mean2) / s_delta\n",
    "t_95_critical_value = 1.960 # from https://en.wikipedia.org/wiki/Student%27s_t-distribution#Table_of_selected_values\n",
    "\n",
    "if abs(t_statistics) < t_95_critical_value:\n",
    "    print(\"Distribution are similar ({})\".format(t_statistics))\n",
    "    # it means that p-val is greater than 0.05, (accept the hypothesis)\n",
    "    # which menas null hypothesis (xs1 & xs2 are equal) is true\n",
    "else:\n",
    "    print(\"Distribution are different ({})\".format(t_statistics))\n",
    "    # it means that p-val is lower than 0.05, (reject the hypothesis)\n",
    "    # which means null hypothesis (x1 & x2 are equal) is not true"
   ]
  },
  {
   "cell_type": "code",
   "execution_count": 18,
   "metadata": {},
   "outputs": [],
   "source": [
    "# ex 1.3.X: Find parameters for the xs2, not equal to thos for xs1, such that distributions become different"
   ]
  },
  {
   "cell_type": "code",
   "execution_count": 19,
   "metadata": {},
   "outputs": [
    {
     "name": "stdout",
     "output_type": "stream",
     "text": [
      "20.232259256634066 1.8436188766175263\n"
     ]
    },
    {
     "data": {
      "text/plain": [
       "[{'mu': 18, 'std': 0, 't-stats': 17.080478167633142},\n",
       " {'mu': 18, 'std': 1, 't-stats': 14.233819718983984},\n",
       " {'mu': 18, 'std': 2, 't-stats': 10.332241052563173},\n",
       " {'mu': 18, 'std': 3, 't-stats': 7.578485463229778},\n",
       " {'mu': 18, 'std': 4, 't-stats': 5.780284101261792},\n",
       " {'mu': 18, 'std': 5, 't-stats': 4.564148761253749},\n",
       " {'mu': 18, 'std': 6, 't-stats': 3.701011649616832},\n",
       " {'mu': 18, 'std': 7, 't-stats': 3.061613426721033},\n",
       " {'mu': 18, 'std': 8, 't-stats': 2.570959606034226},\n",
       " {'mu': 18, 'std': 9, 't-stats': 2.1834771969024427},\n",
       " {'mu': 19, 'std': 0, 't-stats': 9.428822959183874},\n",
       " {'mu': 19, 'std': 1, 't-stats': 7.624880046905812},\n",
       " {'mu': 19, 'std': 2, 't-stats': 5.35329175498358},\n",
       " {'mu': 19, 'std': 3, 't-stats': 3.7828811435700653},\n",
       " {'mu': 19, 'std': 4, 't-stats': 2.7667542859098653},\n",
       " {'mu': 19, 'std': 5, 't-stats': 2.083058289263658},\n",
       " {'mu': 21, 'std': 0, 't-stats': -5.874487457714662},\n",
       " {'mu': 21, 'std': 1, 't-stats': -5.592999297250556},\n",
       " {'mu': 21, 'std': 2, 't-stats': -4.604606840175589},\n",
       " {'mu': 21, 'std': 3, 't-stats': -3.808327495749373},\n",
       " {'mu': 21, 'std': 4, 't-stats': -3.260305344793987},\n",
       " {'mu': 21, 'std': 5, 't-stats': -2.879122654716512},\n",
       " {'mu': 21, 'std': 6, 't-stats': -2.6038176061687244},\n",
       " {'mu': 21, 'std': 7, 't-stats': -2.3974315598144935},\n",
       " {'mu': 21, 'std': 8, 't-stats': -2.2376811940081462},\n",
       " {'mu': 21, 'std': 9, 't-stats': -2.1106903656779163}]"
      ]
     },
     "execution_count": 19,
     "metadata": {},
     "output_type": "execute_result"
    }
   ],
   "source": [
    "# ex\n",
    "\n",
    "def generate_random_sample(mu, std, size=150, seed=42):\n",
    "    random.seed(seed)\n",
    "    \n",
    "    xs = [0] * size\n",
    "    mean = 0\n",
    "    for k in range(size):\n",
    "        xs[k] = random.gauss(mu, std)\n",
    "        mean += xs[k]\n",
    "    mean /= size\n",
    "    \n",
    "    var = 0\n",
    "    for x in xs:\n",
    "        var += (x - mean) ** 2\n",
    "    var /= size - 1\n",
    "    \n",
    "    return (mean, var, size)\n",
    "\n",
    "def calculate_t(control_param, experiment_param):\n",
    "    mean1, var1, size1 = control_param\n",
    "    mean2, var2, size2 = experiment_param\n",
    "    \n",
    "    s_delta = math.sqrt(var1 / size1 + var2 / size2)\n",
    "    return (mean1 - mean2) / s_delta\n",
    "\n",
    "def find_diff_param(mus, stds, control_param, critical_value=1.960):\n",
    "    result = []\n",
    "    for mu in mus:\n",
    "        for std in stds:\n",
    "            experiment_param = generate_random_sample(mu, std)\n",
    "            t_statistic = calculate_t(control_param, experiment_param)\n",
    "            if abs(t_statistic) > critical_value:\n",
    "                param = {\n",
    "                    \"mu\": mu,\n",
    "                    \"std\": std,\n",
    "                    \"t-stats\": t_statistic,\n",
    "                }\n",
    "                result.append(param)\n",
    "    \n",
    "    return result\n",
    "\n",
    "\n",
    "control_param = (mean1, var1, size1)\n",
    "mus = range(18, 22)\n",
    "stds = range(0, 10)\n",
    "\n",
    "print(np.mean(xs1), np.std(xs1))\n",
    "\n",
    "result = find_diff_param(mus, stds, control_param)\n",
    "result"
   ]
  },
  {
   "cell_type": "markdown",
   "metadata": {},
   "source": [
    "For the cases when at least one distribution is not normal **non-parametric** test should be used\n",
    "\n",
    "If there is time:\n",
    "- Add simple test for normality (by analysing 1-, 2-, 3- sigma, IQR, or something like that https://en.wikipedia.org/wiki/Normality_test#Back-of-the-envelope_test)"
   ]
  },
  {
   "cell_type": "code",
   "execution_count": 20,
   "metadata": {},
   "outputs": [
    {
     "data": {
      "text/plain": [
       "(20.232259256634066, 1.8436188766175263)"
      ]
     },
     "execution_count": 20,
     "metadata": {},
     "output_type": "execute_result"
    }
   ],
   "source": [
    "np.mean(xs1), np.std(xs1)"
   ]
  },
  {
   "cell_type": "markdown",
   "metadata": {},
   "source": [
    "### Bootstrapping"
   ]
  },
  {
   "cell_type": "code",
   "execution_count": 21,
   "metadata": {},
   "outputs": [
    {
     "data": {
      "text/plain": [
       "([0.6394267984578837,\n",
       "  0.025010755222666936,\n",
       "  0.27502931836911926,\n",
       "  0.22321073814882275,\n",
       "  0.7364712141640124],\n",
       " [0.032716286855046905,\n",
       "  0.3705299587344354,\n",
       "  0.44338308606070165,\n",
       "  0.950555169851427,\n",
       "  0.8554501933059546],\n",
       " 0.0004059396972875273,\n",
       " 0.9999078285092092)"
      ]
     },
     "execution_count": 21,
     "metadata": {},
     "output_type": "execute_result"
    }
   ],
   "source": [
    "random.seed(42)\n",
    "\n",
    "size = 1000\n",
    "xs = [0] * size\n",
    "mean_x = 0\n",
    "for k in range(size):\n",
    "    xs[k] = random.random()\n",
    "    mean_x += xs[k]\n",
    "mean_x /= size\n",
    "    \n",
    "xs[:5], xs[-5:], min(xs), max(xs)"
   ]
  },
  {
   "cell_type": "code",
   "execution_count": 22,
   "metadata": {},
   "outputs": [
    {
     "name": "stdout",
     "output_type": "stream",
     "text": [
      "sample mean: 0.5125619702436156\n",
      "true mean: 0.5\n",
      "bootstrapped mean: 0.5133657082871199\n"
     ]
    }
   ],
   "source": [
    "# bootstrapping (https://en.wikipedia.org/wiki/Bootstrapping_(statistics))\n",
    "print(\"sample mean:\", mean_x)\n",
    "print(\"true mean:\", 0.5)\n",
    "random.seed(42)\n",
    "trials = 100\n",
    "bs_mean_x = 0\n",
    "\n",
    "for _ in range(trials):\n",
    "    cur_mean_x = 0\n",
    "    for _ in xs:\n",
    "        idx = random.randint(0, size-1)\n",
    "        cur_mean_x += xs[idx]\n",
    "    cur_mean_x /= len(xs)\n",
    "    bs_mean_x += cur_mean_x\n",
    "bs_mean_x /= trials\n",
    "\n",
    "bs_mean_x, mean_x # true mean is 0.5\n",
    "print(\"bootstrapped mean:\", bs_mean_x)"
   ]
  },
  {
   "cell_type": "code",
   "execution_count": 23,
   "metadata": {},
   "outputs": [],
   "source": [
    "# ex 1.3.X: check how number of trials affects accuracy of the bootstrapped mean\n",
    "# ex 1.3.X: write function to compute bootstrapped standard variance (true value is 1/12 ~ 0.083)"
   ]
  },
  {
   "cell_type": "markdown",
   "metadata": {},
   "source": [
    "### Summary\n",
    "\n",
    "Computing basic statistics is a good exercise for programming in python (and a simple statistics reminder). Later on we will see how to do it in mocre compact way and how to use packages for that.\n",
    "\n",
    "List of used packages:\n",
    "- random\n",
    "- math"
   ]
  }
 ],
 "metadata": {
  "kernelspec": {
   "display_name": "Python 3",
   "language": "python",
   "name": "python3"
  },
  "language_info": {
   "codemirror_mode": {
    "name": "ipython",
    "version": 3
   },
   "file_extension": ".py",
   "mimetype": "text/x-python",
   "name": "python",
   "nbconvert_exporter": "python",
   "pygments_lexer": "ipython3",
   "version": "3.7.6"
  }
 },
 "nbformat": 4,
 "nbformat_minor": 4
}
